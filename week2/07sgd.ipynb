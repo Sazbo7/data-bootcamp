{
   "metadata" : {
      "org" : null,
      "language_info" : {
         "nbconvert_exporter" : "python",
         "codemirror_mode" : {
            "name" : "ipython",
            "version" : 3
         },
         "name" : "python",
         "file_extension" : ".py",
         "pygments_lexer" : "ipython3",
         "version" : "3.5.2",
         "mimetype" : "text/x-python"
      },
      "kernelspec" : {
         "display_name" : "Python 3",
         "name" : "python3",
         "language" : "python"
      }
   },
   "nbformat_minor" : 0,
   "cells" : [
      {
         "metadata" : {},
         "source" : [
            "We learn to identify political comments versus science comments.\n\n"
         ],
         "cell_type" : "markdown"
      },
      {
         "metadata" : {},
         "source" : [
            "## Load some text data\n\n"
         ],
         "cell_type" : "markdown"
      },
      {
         "cell_type" : "markdown",
         "source" : [
            "One source for text data is reddit.  Download some comments from\n[http://files.pushshift.io/reddit/comments/>](http://files.pushshift.io/reddit/comments/>)and use `bz2` to decompress\nthem.  Here I load a file called `RC_2010-10.bz2`.  Each line of the\ndecompressed file is a JSON object, which can be decoded using\n`json.loads` in Python after `import json`.\n\nI load over 250k comments from the &ldquo;politics&rdquo; and &ldquo;science&rdquo;\nsubreddits.\n\n"
         ],
         "metadata" : {}
      },
      {
         "cell_type" : "code",
         "execution_count" : 1,
         "outputs" : [],
         "metadata" : {},
         "source" : [
            "import json\nimport bz2\ncomments = []\nwith bz2.open('/home/jim/downloads/RC_2010-10.bz2', 'r') as f:\n    for line in f:\n        comment = json.loads(line.strip())\n        if comment['subreddit'] in ['politics', 'science']:\n            comments.append( comment )"
         ]
      },
      {
         "cell_type" : "markdown",
         "source" : [
            "JSON is a popular format, so it behooves us to be comfortable with it.\n\nBut `comment['body']` is a string of text, so we convert it to a\nvector.\n\n"
         ],
         "metadata" : {}
      },
      {
         "execution_count" : 1,
         "outputs" : [],
         "metadata" : {},
         "source" : [
            "from sklearn.feature_extraction.text import HashingVectorizer\nvectorizer = HashingVectorizer(n_features=2**18)\ncorpus = [comment['body'] for comment in comments]\nX = vectorizer.fit_transform(corpus)"
         ],
         "cell_type" : "code"
      },
      {
         "cell_type" : "markdown",
         "source" : [
            "We want to learn `y`, the subreddit.\n\n"
         ],
         "metadata" : {}
      },
      {
         "cell_type" : "code",
         "metadata" : {},
         "source" : [
            "import numpy as np\ny = np.array([comment['subreddit'] == 'politics' for comment in comments])"
         ],
         "execution_count" : 1,
         "outputs" : []
      },
      {
         "source" : [
            "## Evaluating the model\n\n"
         ],
         "metadata" : {},
         "cell_type" : "markdown"
      },
      {
         "metadata" : {},
         "source" : [
            "Let&rsquo;s see how well this works.\n\n"
         ],
         "cell_type" : "markdown"
      },
      {
         "cell_type" : "code",
         "source" : [
            "from sklearn.model_selection import train_test_split \nfrom sklearn import linear_model\nmodel = linear_model.SGDClassifier(alpha=1e-05)\n\nX_train, X_test, y_train, y_test = train_test_split(X, y, test_size = 0.3, stratify=y)\nmodel.fit( X_train, y_train )\ny_pred = model.predict(X_test)\n\nfrom sklearn.metrics import accuracy_score, f1_score, confusion_matrix\n\nprint(\"Accuracy: {:.2f}%\".format(accuracy_score(y_test, y_pred) * 100))\nprint(\"F1 Score: {:.2f}\".format(f1_score(y_test, y_pred) * 100))\nprint(\"Confusion Matrix:\\n\", confusion_matrix(y_test, y_pred))"
         ],
         "metadata" : {},
         "outputs" : [],
         "execution_count" : 1
      },
      {
         "source" : [
            "## Fitting the final model\n\n"
         ],
         "metadata" : {},
         "cell_type" : "markdown"
      },
      {
         "source" : [
            "When we&rsquo;re happy with our model, we fit it on **all** the data.\n\n"
         ],
         "metadata" : {},
         "cell_type" : "markdown"
      },
      {
         "source" : [
            "from sklearn import linear_model\nmodel = linear_model.SGDClassifier(alpha=1e-05)\nmodel.fit(X,y)"
         ],
         "metadata" : {},
         "outputs" : [],
         "execution_count" : 1,
         "cell_type" : "code"
      },
      {
         "cell_type" : "markdown",
         "source" : [
            "You may want to save the model for later.  Let&rsquo;s dump it to disk using\n`joblib`, part of scikit-learn.\n\n"
         ],
         "metadata" : {}
      },
      {
         "source" : [
            "from sklearn.externals import joblib\n_ = joblib.dump(model, \"science-versus-politics.model\", compress=9)"
         ],
         "metadata" : {},
         "outputs" : [],
         "execution_count" : 1,
         "cell_type" : "code"
      },
      {
         "cell_type" : "markdown",
         "metadata" : {},
         "source" : [
            "We can reload it.\n\n"
         ]
      },
      {
         "cell_type" : "code",
         "outputs" : [],
         "execution_count" : 1,
         "source" : [
            "model = joblib.load(\"science-versus-politics.model\")"
         ],
         "metadata" : {}
      },
      {
         "source" : [
            "And we can use it to classify text.\n\n"
         ],
         "metadata" : {},
         "cell_type" : "markdown"
      },
      {
         "cell_type" : "code",
         "metadata" : {},
         "source" : [
            "def classify(text):\n    if model.predict(vectorizer.fit_transform([text]))[0]:\n        return 'politics'\n    else:\n        return 'science'"
         ],
         "execution_count" : 1,
         "outputs" : []
      },
      {
         "metadata" : {},
         "source" : [
            "This is probably `politics`.\n\n"
         ],
         "cell_type" : "markdown"
      },
      {
         "metadata" : {},
         "source" : [
            "classify('Who will win the election?')"
         ],
         "outputs" : [],
         "execution_count" : 1,
         "cell_type" : "code"
      },
      {
         "metadata" : {},
         "source" : [
            "I hope this is `science`.\n\n"
         ],
         "cell_type" : "markdown"
      },
      {
         "outputs" : [],
         "execution_count" : 1,
         "source" : [
            "classify('Is there any relationship between matter and energy?')"
         ],
         "metadata" : {},
         "cell_type" : "code"
      }
   ],
   "nbformat" : 4
}
